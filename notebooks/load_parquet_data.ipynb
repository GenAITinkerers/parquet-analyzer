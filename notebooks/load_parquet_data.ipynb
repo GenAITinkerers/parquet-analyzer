{
 "cells": [
  {
   "cell_type": "code",
   "execution_count": 1,
   "id": "7bc7bcff",
   "metadata": {},
   "outputs": [],
   "source": [
    "import sys"
   ]
  },
  {
   "cell_type": "code",
   "execution_count": 2,
   "id": "4c82cfd2",
   "metadata": {},
   "outputs": [],
   "source": [
    "sys.path.append('../src/parquet')"
   ]
  },
  {
   "cell_type": "code",
   "execution_count": 3,
   "id": "87af3682",
   "metadata": {},
   "outputs": [
    {
     "data": {
      "text/plain": [
       "'/Users/harig/IT_topics/AIML/anomaly/501_anomaly_learn/parquet-analyzer/notebooks'"
      ]
     },
     "execution_count": 3,
     "metadata": {},
     "output_type": "execute_result"
    }
   ],
   "source": [
    "pwd"
   ]
  },
  {
   "cell_type": "code",
   "execution_count": 4,
   "id": "eb2cf050",
   "metadata": {},
   "outputs": [],
   "source": [
    "from load_parquet1 import load_parquet_data"
   ]
  },
  {
   "cell_type": "code",
   "execution_count": 5,
   "id": "7b14a7c2",
   "metadata": {},
   "outputs": [
    {
     "name": "stdout",
     "output_type": "stream",
     "text": [
      "Help on function load_parquet_data in module load_parquet1:\n",
      "\n",
      "load_parquet_data(folder_path: str, file_name: str) -> pandas.core.frame.DataFrame\n",
      "    Load aggregated data from a Parquet file and return it as a DataFrame.\n",
      "\n",
      "    Args:\n",
      "        folder_path (Path | str): Path to the folder containing the file.\n",
      "        file_name (str): Name of the Parquet file containing aggregated data.\n",
      "\n",
      "    Returns:\n",
      "        pd.DataFrame: DataFrame containing the training data.\n",
      "\n",
      "    Raises:\n",
      "        FileNotFoundError: If the file does not exist.\n",
      "        ValueError: If the file is empty, contains null values, or has invalid data.\n",
      "        PermissionError: If the file is not readable.\n",
      "\n"
     ]
    }
   ],
   "source": [
    "help(load_parquet_data)"
   ]
  },
  {
   "cell_type": "code",
   "execution_count": 6,
   "id": "6e12e465",
   "metadata": {},
   "outputs": [
    {
     "name": "stderr",
     "output_type": "stream",
     "text": [
      "[10:25:19,966] ERROR load_parquet1.35| The file ../data/processed/training_data.parquet does not exist.\n"
     ]
    },
    {
     "ename": "FileNotFoundError",
     "evalue": "The file ../data/processed/training_data.parquet does not exist.",
     "output_type": "error",
     "traceback": [
      "\u001b[31m---------------------------------------------------------------------------\u001b[39m",
      "\u001b[31mFileNotFoundError\u001b[39m                         Traceback (most recent call last)",
      "\u001b[36mCell\u001b[39m\u001b[36m \u001b[39m\u001b[32mIn[6]\u001b[39m\u001b[32m, line 1\u001b[39m\n\u001b[32m----> \u001b[39m\u001b[32m1\u001b[39m \u001b[43mload_parquet_data\u001b[49m\u001b[43m(\u001b[49m\u001b[43mfolder_path\u001b[49m\u001b[43m=\u001b[49m\u001b[33;43m'\u001b[39;49m\u001b[33;43m../data/processed\u001b[39;49m\u001b[33;43m'\u001b[39;49m\u001b[43m,\u001b[49m\u001b[43m \u001b[49m\u001b[43mfile_name\u001b[49m\u001b[43m=\u001b[49m\u001b[33;43m'\u001b[39;49m\u001b[33;43mtraining_data.parquet\u001b[39;49m\u001b[33;43m'\u001b[39;49m\u001b[43m)\u001b[49m\n",
      "\u001b[36mFile \u001b[39m\u001b[32m~/IT_topics/AIML/anomaly/501_anomaly_learn/parquet-analyzer/notebooks/../src/parquet/load_parquet1.py:36\u001b[39m, in \u001b[36mload_parquet_data\u001b[39m\u001b[34m(folder_path, file_name)\u001b[39m\n\u001b[32m     34\u001b[39m \u001b[38;5;28;01mif\u001b[39;00m \u001b[38;5;129;01mnot\u001b[39;00m file_path.exists():\n\u001b[32m     35\u001b[39m     LOGGER.error(\u001b[33mf\u001b[39m\u001b[33m\"\u001b[39m\u001b[33mThe file \u001b[39m\u001b[38;5;132;01m{\u001b[39;00mfile_path\u001b[38;5;132;01m}\u001b[39;00m\u001b[33m does not exist.\u001b[39m\u001b[33m\"\u001b[39m)\n\u001b[32m---> \u001b[39m\u001b[32m36\u001b[39m     \u001b[38;5;28;01mraise\u001b[39;00m \u001b[38;5;167;01mFileNotFoundError\u001b[39;00m(\u001b[33mf\u001b[39m\u001b[33m\"\u001b[39m\u001b[33mThe file \u001b[39m\u001b[38;5;132;01m{\u001b[39;00mfile_path\u001b[38;5;132;01m}\u001b[39;00m\u001b[33m does not exist.\u001b[39m\u001b[33m\"\u001b[39m)\n\u001b[32m     38\u001b[39m \u001b[38;5;66;03m# check if the file is a valid parquet file\u001b[39;00m\n\u001b[32m     39\u001b[39m \u001b[38;5;28;01mif\u001b[39;00m file_path.suffix != \u001b[33m\"\u001b[39m\u001b[33m.parquet\u001b[39m\u001b[33m\"\u001b[39m:\n",
      "\u001b[31mFileNotFoundError\u001b[39m: The file ../data/processed/training_data.parquet does not exist."
     ]
    }
   ],
   "source": [
    "load_parquet_data(folder_path='../data/processed', file_name='training_data.parquet')"
   ]
  },
  {
   "cell_type": "code",
   "execution_count": 8,
   "id": "18bb0839",
   "metadata": {},
   "outputs": [
    {
     "name": "stderr",
     "output_type": "stream",
     "text": [
      "INFO:This is an info message\n",
      "WARNING:This is a warning\n",
      "ERROR:This is an error\n",
      "CRITICAL:This is critical\n"
     ]
    }
   ],
   "source": [
    "import logging\n",
    "\n",
    "# Reset existing handlers\n",
    "for handler in logging.root.handlers[:]:\n",
    "    logging.root.removeHandler(handler)\n",
    "\n",
    "# Set global log level and format\n",
    "logging.basicConfig(level=logging.INFO, format='%(levelname)s:%(message)s')\n",
    "LOGGER = logging.getLogger(__name__)\n",
    "\n",
    "LOGGER.debug(\"This is a debug message\")\n",
    "LOGGER.info(\"This is an info message\")\n",
    "LOGGER.warning(\"This is a warning\")\n",
    "LOGGER.error(\"This is an error\")\n",
    "LOGGER.critical(\"This is critical\")\n"
   ]
  },
  {
   "cell_type": "code",
   "execution_count": null,
   "id": "51a2eaaa",
   "metadata": {},
   "outputs": [],
   "source": []
  },
  {
   "cell_type": "code",
   "execution_count": null,
   "id": "70f0b4ae",
   "metadata": {},
   "outputs": [],
   "source": []
  }
 ],
 "metadata": {
  "kernelspec": {
   "display_name": "anomaly",
   "language": "python",
   "name": "python3"
  },
  "language_info": {
   "codemirror_mode": {
    "name": "ipython",
    "version": 3
   },
   "file_extension": ".py",
   "mimetype": "text/x-python",
   "name": "python",
   "nbconvert_exporter": "python",
   "pygments_lexer": "ipython3",
   "version": "3.12.11"
  }
 },
 "nbformat": 4,
 "nbformat_minor": 5
}
