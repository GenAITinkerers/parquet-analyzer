{
 "cells": [
  {
   "cell_type": "code",
   "execution_count": null,
   "metadata": {},
   "outputs": [],
   "source": [
    "import pandas as pd\n",
    "import os"
   ]
  },
  {
   "cell_type": "code",
   "execution_count": null,
   "metadata": {},
   "outputs": [],
   "source": []
  },
  {
   "cell_type": "code",
   "execution_count": null,
   "metadata": {},
   "outputs": [],
   "source": [
    "def load_parquet_data(file_path: str) -> pd.DataFrame:\n",
    "    return pd.read_parquet(file_path)"
   ]
  },
  {
   "cell_type": "code",
   "execution_count": null,
   "metadata": {},
   "outputs": [],
   "source": []
  },
  {
   "cell_type": "code",
   "execution_count": null,
   "metadata": {},
   "outputs": [],
   "source": [
    "def load_parquet_data(file_path: str) -> pd.DataFrame:\n",
    "    \"\"\"\n",
    "    Loads data from a Parquet file with basic validation.\n",
    "\n",
    "    Args:\n",
    "        file_path (str): Path to the Parquet file.\n",
    "\n",
    "    Returns:\n",
    "        pd.DataFrame: Loaded DataFrame.\n",
    "\n",
    "    Raises:\n",
    "        FileNotFoundError: If the file does not exist.\n",
    "        ValueError: If the file is empty or contains null values.\n",
    "        PermissionError: If the file is not readable.\n",
    "    \"\"\"\n",
    "\n",
    "    # Check if file exists\n",
    "    if not os.path.exists(file_path):\n",
    "        raise FileNotFoundError(f\"{file_path} does not exist.\")\n",
    "\n",
    "    # Check if file is not empty\n",
    "    if os.stat(file_path).st_size == 0:\n",
    "        raise ValueError(f\"{file_path} is empty.\")\n",
    "\n",
    "    # Check if file is readable\n",
    "    if not os.access(file_path, os.R_OK):\n",
    "        raise PermissionError(f\"{file_path} is not readable.\")\n",
    "\n",
    "    # Check file extension\n",
    "    if not file_path.endswith(\".parquet\"):\n",
    "        raise ValueError(f\"{file_path} is not a Parquet file.\")\n",
    "\n",
    "    # Load data\n",
    "    df = pd.read_parquet(file_path)\n",
    "\n",
    "    # Check if DataFrame is empty\n",
    "    if df.empty:\n",
    "        raise ValueError(f\"{file_path} contains no data.\")\n",
    "\n",
    "    # Check for null values\n",
    "    if df.isnull().values.any():\n",
    "        raise ValueError(f\"{file_path} contains null values.\")\n",
    "\n",
    "    return df"
   ]
  },
  {
   "cell_type": "code",
   "execution_count": null,
   "metadata": {},
   "outputs": [],
   "source": []
  },
  {
   "cell_type": "code",
   "execution_count": null,
   "metadata": {},
   "outputs": [],
   "source": []
  }
 ],
 "metadata": {
  "kernelspec": {
   "display_name": "anomaly",
   "language": "python",
   "name": "python3"
  },
  "language_info": {
   "name": "python",
   "version": "3.12.10"
  }
 },
 "nbformat": 4,
 "nbformat_minor": 2
}
