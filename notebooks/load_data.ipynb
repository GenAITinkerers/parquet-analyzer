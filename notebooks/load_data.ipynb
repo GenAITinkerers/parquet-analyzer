{
 "cells": [
  {
   "cell_type": "code",
   "execution_count": 1,
   "metadata": {},
   "outputs": [],
   "source": [
    "import pandas as pd\n",
    "import os"
   ]
  },
  {
   "cell_type": "code",
   "execution_count": 4,
   "metadata": {},
   "outputs": [],
   "source": [
    "def load_parquet_data1(file_path: str) -> pd.DataFrame:\n",
    "    return pd.read_parquet(file_path)"
   ]
  },
  {
   "cell_type": "code",
   "execution_count": 7,
   "metadata": {},
   "outputs": [],
   "source": [
    "data = load_parquet_data1(\"../data/processed/training_data.parquet\")"
   ]
  },
  {
   "cell_type": "code",
   "execution_count": 8,
   "metadata": {},
   "outputs": [
    {
     "data": {
      "text/html": [
       "<div>\n",
       "<style scoped>\n",
       "    .dataframe tbody tr th:only-of-type {\n",
       "        vertical-align: middle;\n",
       "    }\n",
       "\n",
       "    .dataframe tbody tr th {\n",
       "        vertical-align: top;\n",
       "    }\n",
       "\n",
       "    .dataframe thead th {\n",
       "        text-align: right;\n",
       "    }\n",
       "</style>\n",
       "<table border=\"1\" class=\"dataframe\">\n",
       "  <thead>\n",
       "    <tr style=\"text-align: right;\">\n",
       "      <th></th>\n",
       "      <th>time</th>\n",
       "      <th>TO</th>\n",
       "      <th>sensor1_min</th>\n",
       "      <th>sensor1_max</th>\n",
       "      <th>sensor2_min</th>\n",
       "      <th>sensor2_max</th>\n",
       "      <th>sensor2_mean</th>\n",
       "      <th>sensor3_min</th>\n",
       "      <th>sensor3_max</th>\n",
       "      <th>sensor3_mean</th>\n",
       "    </tr>\n",
       "  </thead>\n",
       "  <tbody>\n",
       "    <tr>\n",
       "      <th>0</th>\n",
       "      <td>1743532199</td>\n",
       "      <td>10540337</td>\n",
       "      <td>65.83</td>\n",
       "      <td>65.27</td>\n",
       "      <td>10.0</td>\n",
       "      <td>98.0</td>\n",
       "      <td>55.59</td>\n",
       "      <td>12.0</td>\n",
       "      <td>99.0</td>\n",
       "      <td>54.11</td>\n",
       "    </tr>\n",
       "    <tr>\n",
       "      <th>1</th>\n",
       "      <td>1743618599</td>\n",
       "      <td>10540337</td>\n",
       "      <td>76.09</td>\n",
       "      <td>54.77</td>\n",
       "      <td>10.0</td>\n",
       "      <td>98.0</td>\n",
       "      <td>57.70</td>\n",
       "      <td>10.0</td>\n",
       "      <td>99.0</td>\n",
       "      <td>51.68</td>\n",
       "    </tr>\n",
       "    <tr>\n",
       "      <th>2</th>\n",
       "      <td>1743704999</td>\n",
       "      <td>10540337</td>\n",
       "      <td>67.66</td>\n",
       "      <td>66.12</td>\n",
       "      <td>10.0</td>\n",
       "      <td>99.0</td>\n",
       "      <td>50.29</td>\n",
       "      <td>10.0</td>\n",
       "      <td>98.0</td>\n",
       "      <td>53.25</td>\n",
       "    </tr>\n",
       "    <tr>\n",
       "      <th>3</th>\n",
       "      <td>1743791399</td>\n",
       "      <td>10540337</td>\n",
       "      <td>83.22</td>\n",
       "      <td>80.61</td>\n",
       "      <td>10.0</td>\n",
       "      <td>99.0</td>\n",
       "      <td>58.97</td>\n",
       "      <td>11.0</td>\n",
       "      <td>98.0</td>\n",
       "      <td>49.92</td>\n",
       "    </tr>\n",
       "    <tr>\n",
       "      <th>4</th>\n",
       "      <td>1743877799</td>\n",
       "      <td>10540337</td>\n",
       "      <td>78.29</td>\n",
       "      <td>66.14</td>\n",
       "      <td>10.0</td>\n",
       "      <td>99.0</td>\n",
       "      <td>59.60</td>\n",
       "      <td>10.0</td>\n",
       "      <td>99.0</td>\n",
       "      <td>61.02</td>\n",
       "    </tr>\n",
       "  </tbody>\n",
       "</table>\n",
       "</div>"
      ],
      "text/plain": [
       "         time        TO  sensor1_min  sensor1_max  sensor2_min  sensor2_max  \\\n",
       "0  1743532199  10540337        65.83        65.27         10.0         98.0   \n",
       "1  1743618599  10540337        76.09        54.77         10.0         98.0   \n",
       "2  1743704999  10540337        67.66        66.12         10.0         99.0   \n",
       "3  1743791399  10540337        83.22        80.61         10.0         99.0   \n",
       "4  1743877799  10540337        78.29        66.14         10.0         99.0   \n",
       "\n",
       "   sensor2_mean  sensor3_min  sensor3_max  sensor3_mean  \n",
       "0         55.59         12.0         99.0         54.11  \n",
       "1         57.70         10.0         99.0         51.68  \n",
       "2         50.29         10.0         98.0         53.25  \n",
       "3         58.97         11.0         98.0         49.92  \n",
       "4         59.60         10.0         99.0         61.02  "
      ]
     },
     "execution_count": 8,
     "metadata": {},
     "output_type": "execute_result"
    }
   ],
   "source": [
    "data.head()"
   ]
  },
  {
   "cell_type": "code",
   "execution_count": null,
   "metadata": {},
   "outputs": [],
   "source": []
  },
  {
   "cell_type": "code",
   "execution_count": null,
   "metadata": {},
   "outputs": [],
   "source": []
  },
  {
   "cell_type": "code",
   "execution_count": null,
   "metadata": {},
   "outputs": [],
   "source": []
  },
  {
   "cell_type": "code",
   "execution_count": 9,
   "metadata": {},
   "outputs": [],
   "source": [
    "def load_parquet_data(file_path: str) -> pd.DataFrame:\n",
    "    \"\"\"\n",
    "    Loads data from a Parquet file with basic validation.\n",
    "\n",
    "    Args:\n",
    "        file_path (str): Path to the Parquet file.\n",
    "\n",
    "    Returns:\n",
    "        pd.DataFrame: Loaded DataFrame.\n",
    "\n",
    "    Raises:\n",
    "        FileNotFoundError: If the file does not exist.\n",
    "        ValueError: If the file is empty or contains null values.\n",
    "        PermissionError: If the file is not readable.\n",
    "    \"\"\"\n",
    "\n",
    "    # Check if file exists\n",
    "    if not os.path.exists(file_path):\n",
    "        raise FileNotFoundError(f\"{file_path} does not exist.\")\n",
    "\n",
    "    # Check if file is not empty\n",
    "    if os.stat(file_path).st_size == 0:\n",
    "        raise ValueError(f\"{file_path} is empty.\")\n",
    "\n",
    "    # Check if file is readable\n",
    "    if not os.access(file_path, os.R_OK):\n",
    "        raise PermissionError(f\"{file_path} is not readable.\")\n",
    "\n",
    "    # Check file extension\n",
    "    if not file_path.endswith(\".parquet\"):\n",
    "        raise ValueError(f\"{file_path} is not a Parquet file.\")\n",
    "\n",
    "    # Load data\n",
    "    df = pd.read_parquet(file_path)\n",
    "\n",
    "    # Check if DataFrame is empty\n",
    "    if df.empty:\n",
    "        raise ValueError(f\"{file_path} contains no data.\")\n",
    "\n",
    "    # Check for null values\n",
    "    if df.isnull().values.any():\n",
    "        raise ValueError(f\"{file_path} contains null values.\")\n",
    "\n",
    "    return df"
   ]
  },
  {
   "cell_type": "code",
   "execution_count": 11,
   "metadata": {},
   "outputs": [
    {
     "ename": "FileNotFoundError",
     "evalue": "../data/processed/training_data.parquet does not exist.",
     "output_type": "error",
     "traceback": [
      "\u001b[31m---------------------------------------------------------------------------\u001b[39m",
      "\u001b[31mFileNotFoundError\u001b[39m                         Traceback (most recent call last)",
      "\u001b[36mCell\u001b[39m\u001b[36m \u001b[39m\u001b[32mIn[11]\u001b[39m\u001b[32m, line 1\u001b[39m\n\u001b[32m----> \u001b[39m\u001b[32m1\u001b[39m \u001b[43mload_parquet_data\u001b[49m\u001b[43m(\u001b[49m\u001b[33;43m\"\u001b[39;49m\u001b[33;43m../data/processed/training_data.parquet\u001b[39;49m\u001b[33;43m\"\u001b[39;49m\u001b[43m)\u001b[49m\n",
      "\u001b[36mCell\u001b[39m\u001b[36m \u001b[39m\u001b[32mIn[9]\u001b[39m\u001b[32m, line 19\u001b[39m, in \u001b[36mload_parquet_data\u001b[39m\u001b[34m(file_path)\u001b[39m\n\u001b[32m     17\u001b[39m \u001b[38;5;66;03m# Check if file exists\u001b[39;00m\n\u001b[32m     18\u001b[39m \u001b[38;5;28;01mif\u001b[39;00m \u001b[38;5;129;01mnot\u001b[39;00m os.path.exists(file_path):\n\u001b[32m---> \u001b[39m\u001b[32m19\u001b[39m     \u001b[38;5;28;01mraise\u001b[39;00m \u001b[38;5;167;01mFileNotFoundError\u001b[39;00m(\u001b[33mf\u001b[39m\u001b[33m\"\u001b[39m\u001b[38;5;132;01m{\u001b[39;00mfile_path\u001b[38;5;132;01m}\u001b[39;00m\u001b[33m does not exist.\u001b[39m\u001b[33m\"\u001b[39m)\n\u001b[32m     21\u001b[39m \u001b[38;5;66;03m# Check if file is not empty\u001b[39;00m\n\u001b[32m     22\u001b[39m \u001b[38;5;28;01mif\u001b[39;00m os.stat(file_path).st_size == \u001b[32m0\u001b[39m:\n",
      "\u001b[31mFileNotFoundError\u001b[39m: ../data/processed/training_data.parquet does not exist."
     ]
    }
   ],
   "source": [
    "load_parquet_data(\"../data/processed/training_data.parquet\")"
   ]
  },
  {
   "cell_type": "code",
   "execution_count": null,
   "metadata": {},
   "outputs": [],
   "source": []
  }
 ],
 "metadata": {
  "kernelspec": {
   "display_name": "anomaly",
   "language": "python",
   "name": "python3"
  },
  "language_info": {
   "codemirror_mode": {
    "name": "ipython",
    "version": 3
   },
   "file_extension": ".py",
   "mimetype": "text/x-python",
   "name": "python",
   "nbconvert_exporter": "python",
   "pygments_lexer": "ipython3",
   "version": "3.12.11"
  }
 },
 "nbformat": 4,
 "nbformat_minor": 2
}
